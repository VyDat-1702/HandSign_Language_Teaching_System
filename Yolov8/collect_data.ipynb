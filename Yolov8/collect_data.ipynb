{
 "cells": [
  {
   "cell_type": "code",
   "execution_count": 45,
   "metadata": {},
   "outputs": [
    {
     "name": "stdout",
     "output_type": "stream",
     "text": [
      "Captured image 1/20\n",
      "Captured image 2/20\n",
      "Captured image 3/20\n",
      "Captured image 4/20\n",
      "Captured image 5/20\n",
      "Captured image 6/20\n",
      "Captured image 7/20\n",
      "Captured image 8/20\n",
      "Captured image 9/20\n",
      "Captured image 10/20\n",
      "Captured image 11/20\n",
      "Captured image 12/20\n",
      "Captured image 13/20\n",
      "Captured image 14/20\n",
      "Captured image 15/20\n",
      "Captured image 16/20\n",
      "Captured image 17/20\n",
      "Captured image 18/20\n",
      "Captured image 19/20\n",
      "Captured image 20/20\n",
      "Completed capturing images. Exiting the program.\n"
     ]
    }
   ],
   "source": [
    "import os\n",
    "import cv2\n",
    "\n",
    "# Đường dẫn thư mục lưu ảnh\n",
    "DATA_DIR = './data_collect/images'\n",
    "if not os.path.exists(DATA_DIR):\n",
    "    os.makedirs(DATA_DIR)\n",
    "\n",
    "dataset_size = 20  # Số lượng ảnh cần chụp\n",
    "counter = 0  # Đếm số ảnh đã chụp\n",
    "\n",
    "cap = cv2.VideoCapture(0)\n",
    "\n",
    "while counter < dataset_size:\n",
    "    ret, frame = cap.read()\n",
    "    if not ret:\n",
    "        break\n",
    "    \n",
    "    # Hiển thị thông báo khi sẵn sàng chụp\n",
    "    text = f'Press \"Q\" to capture {counter + 1}/{dataset_size}' if counter < dataset_size else ''\n",
    "    frame_display = frame.copy()\n",
    "    cv2.putText(frame_display, text, (50, 50), cv2.FONT_HERSHEY_SIMPLEX, 1, (0, 255, 0), 2, cv2.LINE_AA)\n",
    "    cv2.imshow('frame', frame_display)\n",
    "    \n",
    "    # Đợi phím nhấn\n",
    "    key = cv2.waitKey(1) & 0xFF\n",
    "    if key == ord('q'):\n",
    "        image_filename = f'{counter + 1}.jpg'\n",
    "        cv2.imwrite(os.path.join(DATA_DIR, image_filename), frame)\n",
    "        print(f\"Captured image {counter + 1}/{dataset_size}\")\n",
    "        counter += 1\n",
    "\n",
    "# Khi chụp đủ 10 tấm, kết thúc chương trình\n",
    "print(\"Completed capturing images. Exiting the program.\")\n",
    "cap.release()\n",
    "cv2.destroyAllWindows()\n"
   ]
  },
  {
   "cell_type": "code",
   "execution_count": 46,
   "metadata": {},
   "outputs": [
    {
     "name": "stdout",
     "output_type": "stream",
     "text": [
      "Đã đổi tên 1.jpg thành Y11.jpg\n",
      "Đã đổi tên 10.jpg thành Y12.jpg\n",
      "Đã đổi tên 11.jpg thành Y13.jpg\n",
      "Đã đổi tên 12.jpg thành Y14.jpg\n",
      "Đã đổi tên 13.jpg thành Y15.jpg\n",
      "Đã đổi tên 14.jpg thành Y16.jpg\n",
      "Đã đổi tên 15.jpg thành Y17.jpg\n",
      "Đã đổi tên 16.jpg thành Y18.jpg\n",
      "Đã đổi tên 17.jpg thành Y19.jpg\n",
      "Đã đổi tên 18.jpg thành Y20.jpg\n",
      "Đã đổi tên 19.jpg thành Y21.jpg\n",
      "Đã đổi tên 2.jpg thành Y22.jpg\n",
      "Đã đổi tên 20.jpg thành Y23.jpg\n",
      "Đã đổi tên 3.jpg thành Y24.jpg\n",
      "Đã đổi tên 4.jpg thành Y25.jpg\n",
      "Đã đổi tên 5.jpg thành Y26.jpg\n",
      "Đã đổi tên 6.jpg thành Y27.jpg\n",
      "Đã đổi tên 7.jpg thành Y28.jpg\n",
      "Đã đổi tên 8.jpg thành Y29.jpg\n",
      "Đã đổi tên 9.jpg thành Y30.jpg\n"
     ]
    }
   ],
   "source": [
    "import os\n",
    "\n",
    "# Đường dẫn đến thư mục chứa ảnh\n",
    "directory = './data_collect/images'  # Đổi đường dẫn này theo thư mục của bạn\n",
    "\n",
    "# Lấy danh sách tất cả các tệp trong thư mục\n",
    "for idx, filename in enumerate(os.listdir(directory)):\n",
    "    # Kiểm tra xem tệp có phải là ảnh hay không (ở đây là jpg và png)\n",
    "    if filename.endswith('.jpg') or filename.endswith('.png'):\n",
    "        if filename[:-4].isdigit():  # Kiểm tra nếu tên file chỉ chứa số    \n",
    "            # Xây dựng tên mới cho ảnh\n",
    "            new_name = f\"Y{idx+1+10}.jpg\"  # Đổi tên ảnh theo định dạng mới (image_1.jpg, image_2.jpg, ...)\n",
    "            \n",
    "            # Đường dẫn đầy đủ cho tệp cũ và tệp mới\n",
    "            old_file = os.path.join(directory, filename)\n",
    "            new_file = os.path.join(directory, new_name)\n",
    "            \n",
    "            # Đổi tên tệp\n",
    "            os.rename(old_file, new_file)\n",
    "            print(f\"Đã đổi tên {filename} thành {new_name}\")\n"
   ]
  },
  {
   "cell_type": "code",
   "execution_count": null,
   "metadata": {},
   "outputs": [
    {
     "name": "stdout",
     "output_type": "stream",
     "text": [
      "Chia thành công 30 ảnh thành 3 thư mục: train, valid, test.\n"
     ]
    }
   ],
   "source": [
    "# import os\n",
    "# import random\n",
    "# import shutil\n",
    "\n",
    "# # Đường dẫn thư mục chứa ảnh của bạn\n",
    "# DATA_DIR = './data_collect'  # Thay đổi nếu cần\n",
    "# train_dir = os.path.join(DATA_DIR, 'train')\n",
    "# valid_dir = os.path.join(DATA_DIR, 'valid')\n",
    "# test_dir = os.path.join(DATA_DIR, 'test')\n",
    "\n",
    "# # Tỷ lệ chia ảnh\n",
    "# train_ratio = 0.8\n",
    "# valid_ratio = 0.10\n",
    "# test_ratio = 0.10\n",
    "\n",
    "# # Kiểm tra và tạo các thư mục train, valid, test nếu chưa có\n",
    "# for dir in [train_dir, valid_dir, test_dir]:\n",
    "#     if not os.path.exists(dir):\n",
    "#         os.makedirs(dir)\n",
    "\n",
    "# # Lấy danh sách các file ảnh trong thư mục DATA_DIR\n",
    "# all_images = [f for f in os.listdir(DATA_DIR) if f.endswith('.jpg')]  # Chỉ chọn file ảnh .jpg\n",
    "# random.shuffle(all_images)  # Xáo trộn danh sách ảnh\n",
    "\n",
    "# # Tính số lượng ảnh cho từng thư mục\n",
    "# num_train = int(train_ratio * len(all_images))\n",
    "# num_valid = int(valid_ratio * len(all_images))\n",
    "# num_test = len(all_images) - num_train - num_valid  # Đảm bảo tổng cộng đúng\n",
    "\n",
    "# # Di chuyển ảnh vào các thư mục tương ứng\n",
    "# for i, image in enumerate(all_images):\n",
    "#     src_path = os.path.join(DATA_DIR, image)\n",
    "#     if i < num_train:\n",
    "#         dst_path = os.path.join(train_dir, image)\n",
    "#     elif i < num_train + num_valid:\n",
    "#         dst_path = os.path.join(valid_dir, image)\n",
    "#     else:\n",
    "#         dst_path = os.path.join(test_dir, image)\n",
    "\n",
    "#     shutil.move(src_path, dst_path)\n",
    "\n",
    "# print(f\"Chia thành công {len(all_images)} ảnh thành 3 thư mục: train, valid, test.\")\n"
   ]
  }
 ],
 "metadata": {
  "kernelspec": {
   "display_name": "yolo",
   "language": "python",
   "name": "python3"
  },
  "language_info": {
   "codemirror_mode": {
    "name": "ipython",
    "version": 3
   },
   "file_extension": ".py",
   "mimetype": "text/x-python",
   "name": "python",
   "nbconvert_exporter": "python",
   "pygments_lexer": "ipython3",
   "version": "3.8.20"
  }
 },
 "nbformat": 4,
 "nbformat_minor": 2
}
