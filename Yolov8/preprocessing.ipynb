{
 "cells": [
  {
   "cell_type": "code",
   "execution_count": 1,
   "metadata": {},
   "outputs": [],
   "source": [
    "import os\n",
    "import ast\n",
    "import pandas as pd\n",
    "import numpy as np\n",
    "from sklearn import model_selection\n",
    "from tqdm import tqdm\n",
    "import shutil"
   ]
  },
  {
   "cell_type": "code",
   "execution_count": 5,
   "metadata": {},
   "outputs": [
    {
     "name": "stderr",
     "output_type": "stream",
     "text": [
      "100%|██████████| 967/967 [00:00<00:00, 1189.86it/s]\n"
     ]
    }
   ],
   "source": [
    "\"\"\"\n",
    "The purpose of this python script is to create an unbiased training and validation set.\n",
    "The split data will be run in the terminal calling a function (process_data) that will join the\n",
    "annotations.csv file with new .txt files for bounding box class and coordinates for each image.\n",
    "\"\"\"\n",
    "# Credit to Abhishek Thakur, as this is a modified version of this notebook.\n",
    "# Source to video, where he goes over his code: https://www.youtube.com/watch?v=NU9Xr_NYslo&t=1392s\n",
    "\n",
    "# Import libraries\n",
    "import os\n",
    "import ast\n",
    "import pandas as pd\n",
    "import numpy as np\n",
    "from sklearn import model_selection\n",
    "from tqdm import tqdm\n",
    "import shutil\n",
    "\n",
    "# The DATA_PATH will be where your augmented images and annotations.csv files are.\n",
    "# The OUTPUT_PATH is where the train and validation images and labels will go to.\n",
    "DATA_PATH = 'D:/install/AI/Code/Project/yolo/V8/Yolov8/aug_data'\n",
    "OUTPUT_PATH = 'D:/install/AI/Code/Project/yolo/V8/Yolov8/dataset'\n",
    "\n",
    "def process_data(data, data_type='train'):\n",
    "    # Tạo thư mục images và labels cho từng tập train, valid, test\n",
    "    image_dir = os.path.join(OUTPUT_PATH, f\"{data_type}/images\")\n",
    "    label_dir = os.path.join(OUTPUT_PATH, f\"{data_type}/labels\")\n",
    "    os.makedirs(image_dir, exist_ok=True)\n",
    "    os.makedirs(label_dir, exist_ok=True)\n",
    "\n",
    "    for _, row in tqdm(data.iterrows(), total=len(data)):\n",
    "        image_name = row['image_id'][:-4]  # Bỏ phần mở rộng (ví dụ: .jpg)\n",
    "        bounding_boxes = row['bboxes']\n",
    "        yolo_data = []\n",
    "\n",
    "        for bbox in bounding_boxes:\n",
    "            category, x_center, y_center, w, h = bbox\n",
    "            yolo_data.append([category, x_center, y_center, w, h])  # YOLO format\n",
    "\n",
    "        yolo_data = np.array(yolo_data)\n",
    "\n",
    "        # Lưu file label vào thư mục labels\n",
    "        np.savetxt(\n",
    "            os.path.join(label_dir, f\"{image_name}.txt\"),\n",
    "            yolo_data,\n",
    "            fmt=[\"%d\", \"%f\", \"%f\", \"%f\", \"%f\"]\n",
    "        )\n",
    "\n",
    "        # Sao chép hình ảnh vào thư mục images\n",
    "        shutil.copyfile(\n",
    "            os.path.join(DATA_PATH, f\"images/{image_name}.jpg\"),\n",
    "            os.path.join(image_dir, f\"{image_name}.jpg\"),\n",
    "        )\n",
    "\n",
    "\n",
    "if __name__ == '__main__':\n",
    "    df = pd.read_csv(os.path.join(DATA_PATH, 'annotations.csv'))\n",
    "    df.bbox = df.bbox.apply(ast.literal_eval) # Convert string to list for bounding boxes\n",
    "    df = df.groupby('image_id')['bbox'].apply(list).reset_index(name='bboxes')\n",
    "    # Run function to have our data ready for modeling in 03_Modeling_and_Inference.ipynb\n",
    "    process_data(df, data_type='train')\n"
   ]
  }
 ],
 "metadata": {
  "kernelspec": {
   "display_name": "yolo",
   "language": "python",
   "name": "python3"
  },
  "language_info": {
   "codemirror_mode": {
    "name": "ipython",
    "version": 3
   },
   "file_extension": ".py",
   "mimetype": "text/x-python",
   "name": "python",
   "nbconvert_exporter": "python",
   "pygments_lexer": "ipython3",
   "version": "3.8.20"
  }
 },
 "nbformat": 4,
 "nbformat_minor": 2
}
